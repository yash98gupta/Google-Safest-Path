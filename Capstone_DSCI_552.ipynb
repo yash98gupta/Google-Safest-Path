{
  "nbformat": 4,
  "nbformat_minor": 0,
  "metadata": {
    "colab": {
      "name": "Capstone_DSCI_552",
      "provenance": [],
      "collapsed_sections": []
    },
    "kernelspec": {
      "name": "python3",
      "display_name": "Python 3"
    },
    "language_info": {
      "name": "python"
    }
  },
  "cells": [
    {
      "cell_type": "markdown",
      "metadata": {
        "id": "Mous6T5-KQzr"
      },
      "source": [
        "LIBRARIES"
      ]
    },
    {
      "cell_type": "code",
      "metadata": {
        "id": "PxfFkZdyPt8Y"
      },
      "source": [
        "#import pandas\n",
        "import pandas as pd\n",
        "\n",
        "#import numpy\n",
        "import numpy as np\n",
        "\n",
        "#import matplotlib for graphs\n",
        "import matplotlib.pyplot as plt\n",
        "\n",
        "# import sklearn PCA library \n",
        "from sklearn.decomposition import PCA\n",
        "\n",
        "#import sklearn KMeans library\n",
        "from sklearn.cluster import KMeans\n",
        "\n",
        "#import libray for StandardScaler\n",
        "from sklearn.preprocessing import StandardScaler\n",
        "\n",
        "#import silhouette_score\n",
        "from sklearn.metrics import silhouette_score\n",
        "\n",
        "# import google colab file upload libraries \n",
        "import io\n",
        "from google.colab import files \n",
        "\n",
        "# Import matplotlib library\n",
        "import matplotlib.pyplot as plt\n",
        "\n",
        "# Import library for classification report\n",
        "from sklearn.metrics import classification_report"
      ],
      "execution_count": null,
      "outputs": []
    },
    {
      "cell_type": "markdown",
      "metadata": {
        "id": "mBp9pIokKTcw"
      },
      "source": [
        "IMPORT DATASET"
      ]
    },
    {
      "cell_type": "code",
      "metadata": {
        "colab": {
          "resources": {
            "http://localhost:8080/nbextensions/google.colab/files.js": {
              "data": "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",
              "ok": true,
              "headers": [
                [
                  "content-type",
                  "application/javascript"
                ]
              ],
              "status": 200,
              "status_text": ""
            }
          },
          "base_uri": "https://localhost:8080/",
          "height": 72
        },
        "id": "lrDuFiTTQSoO",
        "outputId": "e0625c32-a6ad-4b7a-988c-b30da6eb16c0"
      },
      "source": [
        "# Upload Image File \n",
        "# Dataset loaded from: https://data.world/losangeles/los-angeles-crimes-2012-2015\n",
        "uploaded = files.upload()"
      ],
      "execution_count": null,
      "outputs": [
        {
          "output_type": "display_data",
          "data": {
            "text/html": [
              "\n",
              "     <input type=\"file\" id=\"files-66a5f03b-4d7f-46cd-82f8-dd1e4cea868a\" name=\"files[]\" multiple disabled\n",
              "        style=\"border:none\" />\n",
              "     <output id=\"result-66a5f03b-4d7f-46cd-82f8-dd1e4cea868a\">\n",
              "      Upload widget is only available when the cell has been executed in the\n",
              "      current browser session. Please rerun this cell to enable.\n",
              "      </output>\n",
              "      <script src=\"/nbextensions/google.colab/files.js\"></script> "
            ],
            "text/plain": [
              "<IPython.core.display.HTML object>"
            ]
          },
          "metadata": {
            "tags": []
          }
        },
        {
          "output_type": "stream",
          "text": [
            "Saving Crimes_2012-2015_Crimes_2012-2015.csv to Crimes_2012-2015_Crimes_2012-2015 (1).csv\n"
          ],
          "name": "stdout"
        }
      ]
    },
    {
      "cell_type": "code",
      "metadata": {
        "id": "LLf4aY1BQfsc"
      },
      "source": [
        "# Read Uploaded File \n",
        "data = pd.read_csv(io.BytesIO(uploaded['Crimes_2012-2015_Crimes_2012-2015.csv']))"
      ],
      "execution_count": null,
      "outputs": []
    },
    {
      "cell_type": "markdown",
      "metadata": {
        "id": "hBiGz-3bKVs3"
      },
      "source": [
        "DATA EXPLORATION "
      ]
    },
    {
      "cell_type": "code",
      "metadata": {
        "id": "evovwJlrRORU",
        "colab": {
          "base_uri": "https://localhost:8080/",
          "height": 204
        },
        "outputId": "c53037d3-02b4-4e52-8bbc-fc9fe19cfe7d"
      },
      "source": [
        "# View the dataset\n",
        "data.head()"
      ],
      "execution_count": null,
      "outputs": [
        {
          "output_type": "execute_result",
          "data": {
            "text/html": [
              "<div>\n",
              "<style scoped>\n",
              "    .dataframe tbody tr th:only-of-type {\n",
              "        vertical-align: middle;\n",
              "    }\n",
              "\n",
              "    .dataframe tbody tr th {\n",
              "        vertical-align: top;\n",
              "    }\n",
              "\n",
              "    .dataframe thead th {\n",
              "        text-align: right;\n",
              "    }\n",
              "</style>\n",
              "<table border=\"1\" class=\"dataframe\">\n",
              "  <thead>\n",
              "    <tr style=\"text-align: right;\">\n",
              "      <th></th>\n",
              "      <th>Date.Rptd</th>\n",
              "      <th>DR.NO</th>\n",
              "      <th>DATE.OCC</th>\n",
              "      <th>TIME.OCC</th>\n",
              "      <th>AREA</th>\n",
              "      <th>AREA.NAME</th>\n",
              "      <th>RD</th>\n",
              "      <th>Crm.Cd</th>\n",
              "      <th>CrmCd.Desc</th>\n",
              "      <th>Status</th>\n",
              "      <th>Status.Desc</th>\n",
              "      <th>LOCATION</th>\n",
              "      <th>Cross.Street</th>\n",
              "      <th>Location.1</th>\n",
              "    </tr>\n",
              "  </thead>\n",
              "  <tbody>\n",
              "    <tr>\n",
              "      <th>0</th>\n",
              "      <td>03/20/2013</td>\n",
              "      <td>132007717</td>\n",
              "      <td>03/20/2013</td>\n",
              "      <td>2015</td>\n",
              "      <td>20</td>\n",
              "      <td>Olympic</td>\n",
              "      <td>2004</td>\n",
              "      <td>997</td>\n",
              "      <td>TRAFFIC DR #</td>\n",
              "      <td>UNK</td>\n",
              "      <td>Unknown</td>\n",
              "      <td>OXFORD</td>\n",
              "      <td>OAKWOOD</td>\n",
              "      <td>(34.0776, -118.308)</td>\n",
              "    </tr>\n",
              "    <tr>\n",
              "      <th>1</th>\n",
              "      <td>03/10/2013</td>\n",
              "      <td>130608787</td>\n",
              "      <td>03/10/2013</td>\n",
              "      <td>445</td>\n",
              "      <td>6</td>\n",
              "      <td>Hollywood</td>\n",
              "      <td>635</td>\n",
              "      <td>997</td>\n",
              "      <td>TRAFFIC DR #</td>\n",
              "      <td>UNK</td>\n",
              "      <td>Unknown</td>\n",
              "      <td>ODIN                         ST</td>\n",
              "      <td>CAHUENGA                     BL</td>\n",
              "      <td>(34.1113, -118.3336)</td>\n",
              "    </tr>\n",
              "    <tr>\n",
              "      <th>2</th>\n",
              "      <td>12/18/2013</td>\n",
              "      <td>131820260</td>\n",
              "      <td>12/18/2013</td>\n",
              "      <td>745</td>\n",
              "      <td>18</td>\n",
              "      <td>Southeast</td>\n",
              "      <td>1839</td>\n",
              "      <td>997</td>\n",
              "      <td>TRAFFIC DR #</td>\n",
              "      <td>UNK</td>\n",
              "      <td>Unknown</td>\n",
              "      <td>105TH                        ST</td>\n",
              "      <td>CROESUS                      AV</td>\n",
              "      <td>(33.9406, -118.2338)</td>\n",
              "    </tr>\n",
              "    <tr>\n",
              "      <th>3</th>\n",
              "      <td>10/18/2013</td>\n",
              "      <td>131817514</td>\n",
              "      <td>10/18/2013</td>\n",
              "      <td>1730</td>\n",
              "      <td>18</td>\n",
              "      <td>Southeast</td>\n",
              "      <td>1827</td>\n",
              "      <td>997</td>\n",
              "      <td>TRAFFIC DR #</td>\n",
              "      <td>UNK</td>\n",
              "      <td>Unknown</td>\n",
              "      <td>101ST                        ST</td>\n",
              "      <td>JUNIPER                      ST</td>\n",
              "      <td>(33.9449, -118.2332)</td>\n",
              "    </tr>\n",
              "    <tr>\n",
              "      <th>4</th>\n",
              "      <td>05/26/2013</td>\n",
              "      <td>130510483</td>\n",
              "      <td>05/25/2013</td>\n",
              "      <td>2000</td>\n",
              "      <td>5</td>\n",
              "      <td>Harbor</td>\n",
              "      <td>507</td>\n",
              "      <td>440</td>\n",
              "      <td>THEFT PLAIN - PETTY (UNDER $400)</td>\n",
              "      <td>UNK</td>\n",
              "      <td>Unknown</td>\n",
              "      <td>1300      W  SEPULVEDA                    BL</td>\n",
              "      <td>NaN</td>\n",
              "      <td>(33.8135, -118.2992)</td>\n",
              "    </tr>\n",
              "  </tbody>\n",
              "</table>\n",
              "</div>"
            ],
            "text/plain": [
              "    Date.Rptd  ...            Location.1\n",
              "0  03/20/2013  ...   (34.0776, -118.308)\n",
              "1  03/10/2013  ...  (34.1113, -118.3336)\n",
              "2  12/18/2013  ...  (33.9406, -118.2338)\n",
              "3  10/18/2013  ...  (33.9449, -118.2332)\n",
              "4  05/26/2013  ...  (33.8135, -118.2992)\n",
              "\n",
              "[5 rows x 14 columns]"
            ]
          },
          "metadata": {
            "tags": []
          },
          "execution_count": 4
        }
      ]
    },
    {
      "cell_type": "code",
      "metadata": {
        "id": "TQEuV04IRa2V",
        "colab": {
          "base_uri": "https://localhost:8080/"
        },
        "outputId": "8b9af3d0-9d95-4734-92b0-e9ff8e9cdcf4"
      },
      "source": [
        "# View the dataset columns\n",
        "data.columns"
      ],
      "execution_count": null,
      "outputs": [
        {
          "output_type": "execute_result",
          "data": {
            "text/plain": [
              "Index(['Date.Rptd', 'DR.NO', 'DATE.OCC', 'TIME.OCC', 'AREA', 'AREA.NAME', 'RD',\n",
              "       'Crm.Cd', 'CrmCd.Desc', 'Status', 'Status.Desc', 'LOCATION',\n",
              "       'Cross.Street', 'Location.1'],\n",
              "      dtype='object')"
            ]
          },
          "metadata": {
            "tags": []
          },
          "execution_count": 5
        }
      ]
    },
    {
      "cell_type": "markdown",
      "metadata": {
        "id": "11tJ5oU3KZ7X"
      },
      "source": [
        "DATA PRE-PROCESSING"
      ]
    },
    {
      "cell_type": "code",
      "metadata": {
        "id": "zRqCVjzSSXBL",
        "colab": {
          "base_uri": "https://localhost:8080/"
        },
        "outputId": "dff3d7f8-816f-4986-8412-6003c3abf6c7"
      },
      "source": [
        "# check for null values\n",
        "data.isnull().sum()"
      ],
      "execution_count": null,
      "outputs": [
        {
          "output_type": "execute_result",
          "data": {
            "text/plain": [
              "Date.Rptd            0\n",
              "DR.NO                0\n",
              "DATE.OCC             0\n",
              "TIME.OCC             0\n",
              "AREA                 0\n",
              "AREA.NAME            0\n",
              "RD                   0\n",
              "Crm.Cd               0\n",
              "CrmCd.Desc           2\n",
              "Status               0\n",
              "Status.Desc          0\n",
              "LOCATION             0\n",
              "Cross.Street    649466\n",
              "Location.1        4397\n",
              "dtype: int64"
            ]
          },
          "metadata": {
            "tags": []
          },
          "execution_count": 6
        }
      ]
    },
    {
      "cell_type": "code",
      "metadata": {
        "id": "rpq69MwtSgI4"
      },
      "source": [
        "# Drop null values\n",
        "data = data.dropna()"
      ],
      "execution_count": null,
      "outputs": []
    },
    {
      "cell_type": "code",
      "metadata": {
        "id": "cn9z897tzyBs"
      },
      "source": [
        "# Drop irrelevant columns from the dataset\n",
        "\n",
        "data = data.drop(['Status','Status.Desc','DR.NO','Date.Rptd','AREA','RD','Crm.Cd','Cross.Street','LOCATION'],1)"
      ],
      "execution_count": null,
      "outputs": []
    },
    {
      "cell_type": "code",
      "metadata": {
        "id": "f2wgKxMC0WC6",
        "colab": {
          "base_uri": "https://localhost:8080/",
          "height": 419
        },
        "outputId": "54fc4a63-3409-4e76-94c0-c95c01a90220"
      },
      "source": [
        "# Modified/Condensed dataset\n",
        "data"
      ],
      "execution_count": null,
      "outputs": [
        {
          "output_type": "execute_result",
          "data": {
            "text/html": [
              "<div>\n",
              "<style scoped>\n",
              "    .dataframe tbody tr th:only-of-type {\n",
              "        vertical-align: middle;\n",
              "    }\n",
              "\n",
              "    .dataframe tbody tr th {\n",
              "        vertical-align: top;\n",
              "    }\n",
              "\n",
              "    .dataframe thead th {\n",
              "        text-align: right;\n",
              "    }\n",
              "</style>\n",
              "<table border=\"1\" class=\"dataframe\">\n",
              "  <thead>\n",
              "    <tr style=\"text-align: right;\">\n",
              "      <th></th>\n",
              "      <th>DATE.OCC</th>\n",
              "      <th>TIME.OCC</th>\n",
              "      <th>AREA.NAME</th>\n",
              "      <th>CrmCd.Desc</th>\n",
              "      <th>Location.1</th>\n",
              "    </tr>\n",
              "  </thead>\n",
              "  <tbody>\n",
              "    <tr>\n",
              "      <th>0</th>\n",
              "      <td>03/20/2013</td>\n",
              "      <td>2015</td>\n",
              "      <td>Olympic</td>\n",
              "      <td>TRAFFIC DR #</td>\n",
              "      <td>(34.0776, -118.308)</td>\n",
              "    </tr>\n",
              "    <tr>\n",
              "      <th>1</th>\n",
              "      <td>03/10/2013</td>\n",
              "      <td>445</td>\n",
              "      <td>Hollywood</td>\n",
              "      <td>TRAFFIC DR #</td>\n",
              "      <td>(34.1113, -118.3336)</td>\n",
              "    </tr>\n",
              "    <tr>\n",
              "      <th>2</th>\n",
              "      <td>12/18/2013</td>\n",
              "      <td>745</td>\n",
              "      <td>Southeast</td>\n",
              "      <td>TRAFFIC DR #</td>\n",
              "      <td>(33.9406, -118.2338)</td>\n",
              "    </tr>\n",
              "    <tr>\n",
              "      <th>3</th>\n",
              "      <td>10/18/2013</td>\n",
              "      <td>1730</td>\n",
              "      <td>Southeast</td>\n",
              "      <td>TRAFFIC DR #</td>\n",
              "      <td>(33.9449, -118.2332)</td>\n",
              "    </tr>\n",
              "    <tr>\n",
              "      <th>5</th>\n",
              "      <td>05/22/2013</td>\n",
              "      <td>1145</td>\n",
              "      <td>77th Street</td>\n",
              "      <td>TRAFFIC DR #</td>\n",
              "      <td>(33.9931, -118.3308)</td>\n",
              "    </tr>\n",
              "    <tr>\n",
              "      <th>...</th>\n",
              "      <td>...</td>\n",
              "      <td>...</td>\n",
              "      <td>...</td>\n",
              "      <td>...</td>\n",
              "      <td>...</td>\n",
              "    </tr>\n",
              "    <tr>\n",
              "      <th>935208</th>\n",
              "      <td>01/01/2015</td>\n",
              "      <td>440</td>\n",
              "      <td>Topanga</td>\n",
              "      <td>TRAFFIC DR #</td>\n",
              "      <td>(34.2038, -118.6081)</td>\n",
              "    </tr>\n",
              "    <tr>\n",
              "      <th>935209</th>\n",
              "      <td>01/01/2015</td>\n",
              "      <td>1200</td>\n",
              "      <td>Topanga</td>\n",
              "      <td>SPOUSAL(COHAB) ABUSE - SIMPLE ASSAULT</td>\n",
              "      <td>(34.1688, -118.6145)</td>\n",
              "    </tr>\n",
              "    <tr>\n",
              "      <th>935210</th>\n",
              "      <td>01/01/2015</td>\n",
              "      <td>1130</td>\n",
              "      <td>Topanga</td>\n",
              "      <td>TRAFFIC DR #</td>\n",
              "      <td>(34.1688, -118.6145)</td>\n",
              "    </tr>\n",
              "    <tr>\n",
              "      <th>935211</th>\n",
              "      <td>01/01/2015</td>\n",
              "      <td>1225</td>\n",
              "      <td>Topanga</td>\n",
              "      <td>TRAFFIC DR #</td>\n",
              "      <td>(34.2083, -118.5885)</td>\n",
              "    </tr>\n",
              "    <tr>\n",
              "      <th>935230</th>\n",
              "      <td>01/01/2015</td>\n",
              "      <td>1</td>\n",
              "      <td>Topanga</td>\n",
              "      <td>RAPE, FORCIBLE</td>\n",
              "      <td>(0.0, 0.0)</td>\n",
              "    </tr>\n",
              "  </tbody>\n",
              "</table>\n",
              "<p>282226 rows × 5 columns</p>\n",
              "</div>"
            ],
            "text/plain": [
              "          DATE.OCC  ...            Location.1\n",
              "0       03/20/2013  ...   (34.0776, -118.308)\n",
              "1       03/10/2013  ...  (34.1113, -118.3336)\n",
              "2       12/18/2013  ...  (33.9406, -118.2338)\n",
              "3       10/18/2013  ...  (33.9449, -118.2332)\n",
              "5       05/22/2013  ...  (33.9931, -118.3308)\n",
              "...            ...  ...                   ...\n",
              "935208  01/01/2015  ...  (34.2038, -118.6081)\n",
              "935209  01/01/2015  ...  (34.1688, -118.6145)\n",
              "935210  01/01/2015  ...  (34.1688, -118.6145)\n",
              "935211  01/01/2015  ...  (34.2083, -118.5885)\n",
              "935230  01/01/2015  ...            (0.0, 0.0)\n",
              "\n",
              "[282226 rows x 5 columns]"
            ]
          },
          "metadata": {
            "tags": []
          },
          "execution_count": 9
        }
      ]
    },
    {
      "cell_type": "code",
      "metadata": {
        "id": "CKZshCNU2MVD",
        "colab": {
          "base_uri": "https://localhost:8080/"
        },
        "outputId": "b27e556c-4ef2-4eba-a219-a5853caa20bd"
      },
      "source": [
        "# Check number of crimes in different areas\n",
        "data['AREA.NAME'].value_counts()"
      ],
      "execution_count": null,
      "outputs": [
        {
          "output_type": "execute_result",
          "data": {
            "text/plain": [
              "77th Street    19613\n",
              "Southwest      18137\n",
              "Central        16988\n",
              "Olympic        16565\n",
              "Newton         16522\n",
              "Hollywood      15851\n",
              "Southeast      14567\n",
              "Pacific        14218\n",
              "Wilshire       14121\n",
              "Rampart        13890\n",
              "N Hollywood    13075\n",
              "Van Nuys       12559\n",
              "West LA        12472\n",
              "Northeast      11651\n",
              "Mission        11469\n",
              "West Valley    11003\n",
              "Devonshire     10555\n",
              "Harbor         10345\n",
              "Hollenbeck     10166\n",
              "Topanga         9354\n",
              "Foothill        9105\n",
              "Name: AREA.NAME, dtype: int64"
            ]
          },
          "metadata": {
            "tags": []
          },
          "execution_count": 10
        }
      ]
    },
    {
      "cell_type": "code",
      "metadata": {
        "id": "NAG7YwVj2Ml9"
      },
      "source": [
        "# View the types of crime in the dataset with their count\n",
        "crime_freq = data['CrmCd.Desc'].value_counts(ascending=True)"
      ],
      "execution_count": null,
      "outputs": []
    },
    {
      "cell_type": "code",
      "metadata": {
        "id": "5tG-BIeC3AD4",
        "colab": {
          "base_uri": "https://localhost:8080/"
        },
        "outputId": "32b01efa-f00e-4a9e-f81a-95ba67baafcf"
      },
      "source": [
        "# View the crime frequency\n",
        "crime_freq"
      ],
      "execution_count": null,
      "outputs": [
        {
          "output_type": "execute_result",
          "data": {
            "text/plain": [
              "DISHONEST EMPLOYEE ATTEMPTED THEFT                     1\n",
              "SHOTS FROM MOVING VEHICLE                              1\n",
              "TILL TAP - PETTY ($950 & UNDER)                        1\n",
              "HOMICIDE (NON-UCR)                                     1\n",
              "DISHONEST EMPLOYEE - GRAND THEFT                       1\n",
              "                                                   ...  \n",
              "ASSAULT WITH DEADLY WEAPON, AGGRAVATED ASSAULT     11793\n",
              "VEHICLE - STOLEN                                   13841\n",
              "ROBBERY                                            15037\n",
              "BATTERY - SIMPLE ASSAULT                           15822\n",
              "TRAFFIC DR #                                      156876\n",
              "Name: CrmCd.Desc, Length: 146, dtype: int64"
            ]
          },
          "metadata": {
            "tags": []
          },
          "execution_count": 12
        }
      ]
    },
    {
      "cell_type": "code",
      "metadata": {
        "id": "kCMB9_7VD7PM"
      },
      "source": [
        "data = data[data['CrmCd.Desc'] != 'TRAFFIC DR #']"
      ],
      "execution_count": null,
      "outputs": []
    },
    {
      "cell_type": "code",
      "metadata": {
        "id": "s_ATf4TD3c60"
      },
      "source": [
        "# Dividing/Segregating time of the day into Night, Morning, Afternoon, Evening\n",
        "# Labeling the dataset as per the frequency of crime into attention 'low', 'Moderate', 'High' \n",
        "attention = []\n",
        "latitude = []\n",
        "longitude = []\n",
        "time_of_day = []\n",
        "\n",
        "for i in range(len(data)):\n",
        "  row = data.iloc[i,:]\n",
        "  \n",
        "  coord = row['Location.1']\n",
        "  cord_arr = coord.split(',')\n",
        "  \n",
        "  lat = cord_arr[0].split('(')[1]\n",
        "  lon = cord_arr[1].split(')')[0]\n",
        "  lon = lon.strip()\n",
        "\n",
        "  latitude.append(float(lat))\n",
        "  longitude.append(float(lon))\n",
        "\n",
        "  time = row['TIME.OCC']\n",
        "  time_of_day.append('')\n",
        "\n",
        "  if time < 600:\n",
        "    time_of_day[i] = 'Night'\n",
        "  if time > 600 and time < 1200:\n",
        "    time_of_day[i] = 'Morning'\n",
        "  if time > 1200 and time < 1500:\n",
        "    time_of_day[i] = 'Afternoon'\n",
        "  if time > 1500 and time < 1800:\n",
        "    time_of_day[i] = 'Evening'\n",
        "  if time > 1800:\n",
        "    time_of_day[i] = 'Night'\n",
        "  \n",
        "  crime_row_desc = row['CrmCd.Desc']\n",
        "  attention.append(0)\n",
        "  \n",
        "  if crime_freq[crime_row_desc] > 4000 and crime_freq[crime_row_desc] < 12500:\n",
        "    attention[i] = 1\n",
        "  if crime_freq[crime_row_desc] > 12500:\n",
        "    attention[i] = 2"
      ],
      "execution_count": null,
      "outputs": []
    },
    {
      "cell_type": "code",
      "metadata": {
        "id": "jiYFdrUP4iiC",
        "colab": {
          "base_uri": "https://localhost:8080/"
        },
        "outputId": "94ed45fb-bf61-4ed1-d8d2-6a51908360b7"
      },
      "source": [
        "data['Attention'] = attention\n",
        "data['Latitude'] = latitude\n",
        "data['Longitude'] = longitude\n",
        "data['Time'] = time_of_day"
      ],
      "execution_count": null,
      "outputs": [
        {
          "output_type": "stream",
          "text": [
            "/usr/local/lib/python3.7/dist-packages/ipykernel_launcher.py:1: SettingWithCopyWarning: \n",
            "A value is trying to be set on a copy of a slice from a DataFrame.\n",
            "Try using .loc[row_indexer,col_indexer] = value instead\n",
            "\n",
            "See the caveats in the documentation: https://pandas.pydata.org/pandas-docs/stable/user_guide/indexing.html#returning-a-view-versus-a-copy\n",
            "  \"\"\"Entry point for launching an IPython kernel.\n",
            "/usr/local/lib/python3.7/dist-packages/ipykernel_launcher.py:2: SettingWithCopyWarning: \n",
            "A value is trying to be set on a copy of a slice from a DataFrame.\n",
            "Try using .loc[row_indexer,col_indexer] = value instead\n",
            "\n",
            "See the caveats in the documentation: https://pandas.pydata.org/pandas-docs/stable/user_guide/indexing.html#returning-a-view-versus-a-copy\n",
            "  \n",
            "/usr/local/lib/python3.7/dist-packages/ipykernel_launcher.py:3: SettingWithCopyWarning: \n",
            "A value is trying to be set on a copy of a slice from a DataFrame.\n",
            "Try using .loc[row_indexer,col_indexer] = value instead\n",
            "\n",
            "See the caveats in the documentation: https://pandas.pydata.org/pandas-docs/stable/user_guide/indexing.html#returning-a-view-versus-a-copy\n",
            "  This is separate from the ipykernel package so we can avoid doing imports until\n",
            "/usr/local/lib/python3.7/dist-packages/ipykernel_launcher.py:4: SettingWithCopyWarning: \n",
            "A value is trying to be set on a copy of a slice from a DataFrame.\n",
            "Try using .loc[row_indexer,col_indexer] = value instead\n",
            "\n",
            "See the caveats in the documentation: https://pandas.pydata.org/pandas-docs/stable/user_guide/indexing.html#returning-a-view-versus-a-copy\n",
            "  after removing the cwd from sys.path.\n"
          ],
          "name": "stderr"
        }
      ]
    },
    {
      "cell_type": "code",
      "metadata": {
        "id": "v_mhb-CS6JDj",
        "colab": {
          "base_uri": "https://localhost:8080/",
          "height": 419
        },
        "outputId": "e53632ee-5fef-4085-9fbf-ba3e951d1750"
      },
      "source": [
        "# View the data\n",
        "data"
      ],
      "execution_count": null,
      "outputs": [
        {
          "output_type": "execute_result",
          "data": {
            "text/html": [
              "<div>\n",
              "<style scoped>\n",
              "    .dataframe tbody tr th:only-of-type {\n",
              "        vertical-align: middle;\n",
              "    }\n",
              "\n",
              "    .dataframe tbody tr th {\n",
              "        vertical-align: top;\n",
              "    }\n",
              "\n",
              "    .dataframe thead th {\n",
              "        text-align: right;\n",
              "    }\n",
              "</style>\n",
              "<table border=\"1\" class=\"dataframe\">\n",
              "  <thead>\n",
              "    <tr style=\"text-align: right;\">\n",
              "      <th></th>\n",
              "      <th>DATE.OCC</th>\n",
              "      <th>TIME.OCC</th>\n",
              "      <th>AREA.NAME</th>\n",
              "      <th>CrmCd.Desc</th>\n",
              "      <th>Location.1</th>\n",
              "      <th>Attention</th>\n",
              "      <th>Latitude</th>\n",
              "      <th>Longitude</th>\n",
              "      <th>Time</th>\n",
              "    </tr>\n",
              "  </thead>\n",
              "  <tbody>\n",
              "    <tr>\n",
              "      <th>19</th>\n",
              "      <td>08/22/2014</td>\n",
              "      <td>1430</td>\n",
              "      <td>Southwest</td>\n",
              "      <td>THEFT PLAIN - PETTY ($950 &amp; UNDER)</td>\n",
              "      <td>(34.0419, -118.2669)</td>\n",
              "      <td>1</td>\n",
              "      <td>34.0419</td>\n",
              "      <td>-118.2669</td>\n",
              "      <td>Afternoon</td>\n",
              "    </tr>\n",
              "    <tr>\n",
              "      <th>23</th>\n",
              "      <td>08/19/2014</td>\n",
              "      <td>1800</td>\n",
              "      <td>Mission</td>\n",
              "      <td>ROBBERY</td>\n",
              "      <td>(34.2609, -118.4402)</td>\n",
              "      <td>2</td>\n",
              "      <td>34.2609</td>\n",
              "      <td>-118.4402</td>\n",
              "      <td></td>\n",
              "    </tr>\n",
              "    <tr>\n",
              "      <th>30</th>\n",
              "      <td>02/20/2014</td>\n",
              "      <td>1630</td>\n",
              "      <td>Hollenbeck</td>\n",
              "      <td>BRANDISH WEAPON</td>\n",
              "      <td>(34.0302, -118.2077)</td>\n",
              "      <td>0</td>\n",
              "      <td>34.0302</td>\n",
              "      <td>-118.2077</td>\n",
              "      <td>Evening</td>\n",
              "    </tr>\n",
              "    <tr>\n",
              "      <th>35</th>\n",
              "      <td>08/14/2014</td>\n",
              "      <td>820</td>\n",
              "      <td>Central</td>\n",
              "      <td>THEFT-GRAND ($950.01 &amp; OVER)EXCPT,GUNS,FOWL,LI...</td>\n",
              "      <td>(34.0577, -118.2519)</td>\n",
              "      <td>0</td>\n",
              "      <td>34.0577</td>\n",
              "      <td>-118.2519</td>\n",
              "      <td>Morning</td>\n",
              "    </tr>\n",
              "    <tr>\n",
              "      <th>88</th>\n",
              "      <td>07/15/2014</td>\n",
              "      <td>1445</td>\n",
              "      <td>Northeast</td>\n",
              "      <td>BURGLARY FROM VEHICLE</td>\n",
              "      <td>(34.1069, -118.2863)</td>\n",
              "      <td>1</td>\n",
              "      <td>34.1069</td>\n",
              "      <td>-118.2863</td>\n",
              "      <td>Afternoon</td>\n",
              "    </tr>\n",
              "    <tr>\n",
              "      <th>...</th>\n",
              "      <td>...</td>\n",
              "      <td>...</td>\n",
              "      <td>...</td>\n",
              "      <td>...</td>\n",
              "      <td>...</td>\n",
              "      <td>...</td>\n",
              "      <td>...</td>\n",
              "      <td>...</td>\n",
              "      <td>...</td>\n",
              "    </tr>\n",
              "    <tr>\n",
              "      <th>935181</th>\n",
              "      <td>01/01/2015</td>\n",
              "      <td>130</td>\n",
              "      <td>Olympic</td>\n",
              "      <td>BATTERY - SIMPLE ASSAULT</td>\n",
              "      <td>(34.0443, -118.2892)</td>\n",
              "      <td>2</td>\n",
              "      <td>34.0443</td>\n",
              "      <td>-118.2892</td>\n",
              "      <td>Night</td>\n",
              "    </tr>\n",
              "    <tr>\n",
              "      <th>935202</th>\n",
              "      <td>01/01/2015</td>\n",
              "      <td>1200</td>\n",
              "      <td>Olympic</td>\n",
              "      <td>SEX, UNLAWFUL</td>\n",
              "      <td>(34.0472, -118.309)</td>\n",
              "      <td>0</td>\n",
              "      <td>34.0472</td>\n",
              "      <td>-118.3090</td>\n",
              "      <td></td>\n",
              "    </tr>\n",
              "    <tr>\n",
              "      <th>935204</th>\n",
              "      <td>01/01/2015</td>\n",
              "      <td>415</td>\n",
              "      <td>Topanga</td>\n",
              "      <td>ROBBERY</td>\n",
              "      <td>(34.1938, -118.5928)</td>\n",
              "      <td>2</td>\n",
              "      <td>34.1938</td>\n",
              "      <td>-118.5928</td>\n",
              "      <td>Night</td>\n",
              "    </tr>\n",
              "    <tr>\n",
              "      <th>935209</th>\n",
              "      <td>01/01/2015</td>\n",
              "      <td>1200</td>\n",
              "      <td>Topanga</td>\n",
              "      <td>SPOUSAL(COHAB) ABUSE - SIMPLE ASSAULT</td>\n",
              "      <td>(34.1688, -118.6145)</td>\n",
              "      <td>1</td>\n",
              "      <td>34.1688</td>\n",
              "      <td>-118.6145</td>\n",
              "      <td></td>\n",
              "    </tr>\n",
              "    <tr>\n",
              "      <th>935230</th>\n",
              "      <td>01/01/2015</td>\n",
              "      <td>1</td>\n",
              "      <td>Topanga</td>\n",
              "      <td>RAPE, FORCIBLE</td>\n",
              "      <td>(0.0, 0.0)</td>\n",
              "      <td>0</td>\n",
              "      <td>0.0000</td>\n",
              "      <td>0.0000</td>\n",
              "      <td>Night</td>\n",
              "    </tr>\n",
              "  </tbody>\n",
              "</table>\n",
              "<p>125350 rows × 9 columns</p>\n",
              "</div>"
            ],
            "text/plain": [
              "          DATE.OCC  TIME.OCC   AREA.NAME  ... Latitude Longitude       Time\n",
              "19      08/22/2014      1430   Southwest  ...  34.0419 -118.2669  Afternoon\n",
              "23      08/19/2014      1800     Mission  ...  34.2609 -118.4402           \n",
              "30      02/20/2014      1630  Hollenbeck  ...  34.0302 -118.2077    Evening\n",
              "35      08/14/2014       820     Central  ...  34.0577 -118.2519    Morning\n",
              "88      07/15/2014      1445   Northeast  ...  34.1069 -118.2863  Afternoon\n",
              "...            ...       ...         ...  ...      ...       ...        ...\n",
              "935181  01/01/2015       130     Olympic  ...  34.0443 -118.2892      Night\n",
              "935202  01/01/2015      1200     Olympic  ...  34.0472 -118.3090           \n",
              "935204  01/01/2015       415     Topanga  ...  34.1938 -118.5928      Night\n",
              "935209  01/01/2015      1200     Topanga  ...  34.1688 -118.6145           \n",
              "935230  01/01/2015         1     Topanga  ...   0.0000    0.0000      Night\n",
              "\n",
              "[125350 rows x 9 columns]"
            ]
          },
          "metadata": {
            "tags": []
          },
          "execution_count": 16
        }
      ]
    },
    {
      "cell_type": "code",
      "metadata": {
        "id": "l0u84UEg6_I-"
      },
      "source": [
        "freq = data['Attention'].value_counts()"
      ],
      "execution_count": null,
      "outputs": []
    },
    {
      "cell_type": "code",
      "metadata": {
        "id": "Ftrx9nFdCNV9",
        "colab": {
          "base_uri": "https://localhost:8080/"
        },
        "outputId": "fbdb92f0-332b-4ee4-903d-d0302f6afa98"
      },
      "source": [
        "freq"
      ],
      "execution_count": null,
      "outputs": [
        {
          "output_type": "execute_result",
          "data": {
            "text/plain": [
              "2    44700\n",
              "0    42322\n",
              "1    38328\n",
              "Name: Attention, dtype: int64"
            ]
          },
          "metadata": {
            "tags": []
          },
          "execution_count": 18
        }
      ]
    },
    {
      "cell_type": "code",
      "metadata": {
        "id": "VwNnK3L6Jbuo",
        "colab": {
          "base_uri": "https://localhost:8080/",
          "height": 336
        },
        "outputId": "4a6ee95e-d8de-43d4-c70b-3e2882ffede6"
      },
      "source": [
        "fig = plt.figure()\n",
        "ax = fig.add_axes([0,0,1,1])\n",
        "attention = ['Low', 'Moderate', 'High']\n",
        "freq = [freq[0],freq[1],freq[2]]\n",
        "ax.bar(attention,freq)\n",
        "plt.show()"
      ],
      "execution_count": null,
      "outputs": [
        {
          "output_type": "display_data",
          "data": {
            "image/png": "[encoded data removed]",
            "text/plain": [
              "<Figure size 432x288 with 1 Axes>"
            ]
          },
          "metadata": {
            "tags": [],
            "needs_background": "light"
          }
        }
      ]
    },
    {
      "cell_type": "code",
      "metadata": {
        "id": "APlgz8TEK05h"
      },
      "source": [
        "time_freq = data['Time'].value_counts()"
      ],
      "execution_count": null,
      "outputs": []
    },
    {
      "cell_type": "code",
      "metadata": {
        "id": "SNSgI2o2K9ba",
        "colab": {
          "base_uri": "https://localhost:8080/",
          "height": 336
        },
        "outputId": "b27048f0-9bf8-45c5-b92f-b23e5f411d93"
      },
      "source": [
        "fig = plt.figure()\n",
        "ax = fig.add_axes([0,0,1,1])\n",
        "time = ['Night', 'Morning', 'Evening', 'Afternoon']\n",
        "freq = [time_freq[0],time_freq[1],time_freq[2],time_freq[3]]\n",
        "ax.bar(time,freq)\n",
        "plt.show()"
      ],
      "execution_count": null,
      "outputs": [
        {
          "output_type": "display_data",
          "data": {
            "image/png": "[encoded data removed]",
            "text/plain": [
              "<Figure size 432x288 with 1 Axes>"
            ]
          },
          "metadata": {
            "tags": [],
            "needs_background": "light"
          }
        }
      ]
    },
    {
      "cell_type": "code",
      "metadata": {
        "id": "grDBmj5v--uK"
      },
      "source": [
        "# X = data[['Time','AREA NAME','Latitude','Longitude']]\n",
        "X = data[['Time','AREA.NAME','Latitude','Longitude']]\n",
        "\n",
        "# One Hot Encoding AREA NAME, and TIME\n",
        "X = pd.get_dummies(X, columns=[\"AREA.NAME\"], prefix=[\"\"])\n",
        "X = pd.get_dummies(X, columns=[\"Time\"], prefix=[\"\"])\n",
        "\n",
        "# Target \n",
        "Y = data[['Attention']]"
      ],
      "execution_count": null,
      "outputs": []
    },
    {
      "cell_type": "code",
      "metadata": {
        "id": "1Atn9bRDBxNg",
        "colab": {
          "base_uri": "https://localhost:8080/",
          "height": 456
        },
        "outputId": "ed9d82ee-2c14-4bc2-ae64-f7429f435d63"
      },
      "source": [
        "# View X(features)\n",
        "X"
      ],
      "execution_count": null,
      "outputs": [
        {
          "output_type": "execute_result",
          "data": {
            "text/html": [
              "<div>\n",
              "<style scoped>\n",
              "    .dataframe tbody tr th:only-of-type {\n",
              "        vertical-align: middle;\n",
              "    }\n",
              "\n",
              "    .dataframe tbody tr th {\n",
              "        vertical-align: top;\n",
              "    }\n",
              "\n",
              "    .dataframe thead th {\n",
              "        text-align: right;\n",
              "    }\n",
              "</style>\n",
              "<table border=\"1\" class=\"dataframe\">\n",
              "  <thead>\n",
              "    <tr style=\"text-align: right;\">\n",
              "      <th></th>\n",
              "      <th>Latitude</th>\n",
              "      <th>Longitude</th>\n",
              "      <th>_77th Street</th>\n",
              "      <th>_Central</th>\n",
              "      <th>_Devonshire</th>\n",
              "      <th>_Foothill</th>\n",
              "      <th>_Harbor</th>\n",
              "      <th>_Hollenbeck</th>\n",
              "      <th>_Hollywood</th>\n",
              "      <th>_Mission</th>\n",
              "      <th>_N Hollywood</th>\n",
              "      <th>_Newton</th>\n",
              "      <th>_Northeast</th>\n",
              "      <th>_Olympic</th>\n",
              "      <th>_Pacific</th>\n",
              "      <th>_Rampart</th>\n",
              "      <th>_Southeast</th>\n",
              "      <th>_Southwest</th>\n",
              "      <th>_Topanga</th>\n",
              "      <th>_Van Nuys</th>\n",
              "      <th>_West LA</th>\n",
              "      <th>_West Valley</th>\n",
              "      <th>_Wilshire</th>\n",
              "      <th>_</th>\n",
              "      <th>_Afternoon</th>\n",
              "      <th>_Evening</th>\n",
              "      <th>_Morning</th>\n",
              "      <th>_Night</th>\n",
              "    </tr>\n",
              "  </thead>\n",
              "  <tbody>\n",
              "    <tr>\n",
              "      <th>19</th>\n",
              "      <td>34.0419</td>\n",
              "      <td>-118.2669</td>\n",
              "      <td>0</td>\n",
              "      <td>0</td>\n",
              "      <td>0</td>\n",
              "      <td>0</td>\n",
              "      <td>0</td>\n",
              "      <td>0</td>\n",
              "      <td>0</td>\n",
              "      <td>0</td>\n",
              "      <td>0</td>\n",
              "      <td>0</td>\n",
              "      <td>0</td>\n",
              "      <td>0</td>\n",
              "      <td>0</td>\n",
              "      <td>0</td>\n",
              "      <td>0</td>\n",
              "      <td>1</td>\n",
              "      <td>0</td>\n",
              "      <td>0</td>\n",
              "      <td>0</td>\n",
              "      <td>0</td>\n",
              "      <td>0</td>\n",
              "      <td>0</td>\n",
              "      <td>1</td>\n",
              "      <td>0</td>\n",
              "      <td>0</td>\n",
              "      <td>0</td>\n",
              "    </tr>\n",
              "    <tr>\n",
              "      <th>23</th>\n",
              "      <td>34.2609</td>\n",
              "      <td>-118.4402</td>\n",
              "      <td>0</td>\n",
              "      <td>0</td>\n",
              "      <td>0</td>\n",
              "      <td>0</td>\n",
              "      <td>0</td>\n",
              "      <td>0</td>\n",
              "      <td>0</td>\n",
              "      <td>1</td>\n",
              "      <td>0</td>\n",
              "      <td>0</td>\n",
              "      <td>0</td>\n",
              "      <td>0</td>\n",
              "      <td>0</td>\n",
              "      <td>0</td>\n",
              "      <td>0</td>\n",
              "      <td>0</td>\n",
              "      <td>0</td>\n",
              "      <td>0</td>\n",
              "      <td>0</td>\n",
              "      <td>0</td>\n",
              "      <td>0</td>\n",
              "      <td>1</td>\n",
              "      <td>0</td>\n",
              "      <td>0</td>\n",
              "      <td>0</td>\n",
              "      <td>0</td>\n",
              "    </tr>\n",
              "    <tr>\n",
              "      <th>30</th>\n",
              "      <td>34.0302</td>\n",
              "      <td>-118.2077</td>\n",
              "      <td>0</td>\n",
              "      <td>0</td>\n",
              "      <td>0</td>\n",
              "      <td>0</td>\n",
              "      <td>0</td>\n",
              "      <td>1</td>\n",
              "      <td>0</td>\n",
              "      <td>0</td>\n",
              "      <td>0</td>\n",
              "      <td>0</td>\n",
              "      <td>0</td>\n",
              "      <td>0</td>\n",
              "      <td>0</td>\n",
              "      <td>0</td>\n",
              "      <td>0</td>\n",
              "      <td>0</td>\n",
              "      <td>0</td>\n",
              "      <td>0</td>\n",
              "      <td>0</td>\n",
              "      <td>0</td>\n",
              "      <td>0</td>\n",
              "      <td>0</td>\n",
              "      <td>0</td>\n",
              "      <td>1</td>\n",
              "      <td>0</td>\n",
              "      <td>0</td>\n",
              "    </tr>\n",
              "    <tr>\n",
              "      <th>35</th>\n",
              "      <td>34.0577</td>\n",
              "      <td>-118.2519</td>\n",
              "      <td>0</td>\n",
              "      <td>1</td>\n",
              "      <td>0</td>\n",
              "      <td>0</td>\n",
              "      <td>0</td>\n",
              "      <td>0</td>\n",
              "      <td>0</td>\n",
              "      <td>0</td>\n",
              "      <td>0</td>\n",
              "      <td>0</td>\n",
              "      <td>0</td>\n",
              "      <td>0</td>\n",
              "      <td>0</td>\n",
              "      <td>0</td>\n",
              "      <td>0</td>\n",
              "      <td>0</td>\n",
              "      <td>0</td>\n",
              "      <td>0</td>\n",
              "      <td>0</td>\n",
              "      <td>0</td>\n",
              "      <td>0</td>\n",
              "      <td>0</td>\n",
              "      <td>0</td>\n",
              "      <td>0</td>\n",
              "      <td>1</td>\n",
              "      <td>0</td>\n",
              "    </tr>\n",
              "    <tr>\n",
              "      <th>88</th>\n",
              "      <td>34.1069</td>\n",
              "      <td>-118.2863</td>\n",
              "      <td>0</td>\n",
              "      <td>0</td>\n",
              "      <td>0</td>\n",
              "      <td>0</td>\n",
              "      <td>0</td>\n",
              "      <td>0</td>\n",
              "      <td>0</td>\n",
              "      <td>0</td>\n",
              "      <td>0</td>\n",
              "      <td>0</td>\n",
              "      <td>1</td>\n",
              "      <td>0</td>\n",
              "      <td>0</td>\n",
              "      <td>0</td>\n",
              "      <td>0</td>\n",
              "      <td>0</td>\n",
              "      <td>0</td>\n",
              "      <td>0</td>\n",
              "      <td>0</td>\n",
              "      <td>0</td>\n",
              "      <td>0</td>\n",
              "      <td>0</td>\n",
              "      <td>1</td>\n",
              "      <td>0</td>\n",
              "      <td>0</td>\n",
              "      <td>0</td>\n",
              "    </tr>\n",
              "    <tr>\n",
              "      <th>...</th>\n",
              "      <td>...</td>\n",
              "      <td>...</td>\n",
              "      <td>...</td>\n",
              "      <td>...</td>\n",
              "      <td>...</td>\n",
              "      <td>...</td>\n",
              "      <td>...</td>\n",
              "      <td>...</td>\n",
              "      <td>...</td>\n",
              "      <td>...</td>\n",
              "      <td>...</td>\n",
              "      <td>...</td>\n",
              "      <td>...</td>\n",
              "      <td>...</td>\n",
              "      <td>...</td>\n",
              "      <td>...</td>\n",
              "      <td>...</td>\n",
              "      <td>...</td>\n",
              "      <td>...</td>\n",
              "      <td>...</td>\n",
              "      <td>...</td>\n",
              "      <td>...</td>\n",
              "      <td>...</td>\n",
              "      <td>...</td>\n",
              "      <td>...</td>\n",
              "      <td>...</td>\n",
              "      <td>...</td>\n",
              "      <td>...</td>\n",
              "    </tr>\n",
              "    <tr>\n",
              "      <th>935181</th>\n",
              "      <td>34.0443</td>\n",
              "      <td>-118.2892</td>\n",
              "      <td>0</td>\n",
              "      <td>0</td>\n",
              "      <td>0</td>\n",
              "      <td>0</td>\n",
              "      <td>0</td>\n",
              "      <td>0</td>\n",
              "      <td>0</td>\n",
              "      <td>0</td>\n",
              "      <td>0</td>\n",
              "      <td>0</td>\n",
              "      <td>0</td>\n",
              "      <td>1</td>\n",
              "      <td>0</td>\n",
              "      <td>0</td>\n",
              "      <td>0</td>\n",
              "      <td>0</td>\n",
              "      <td>0</td>\n",
              "      <td>0</td>\n",
              "      <td>0</td>\n",
              "      <td>0</td>\n",
              "      <td>0</td>\n",
              "      <td>0</td>\n",
              "      <td>0</td>\n",
              "      <td>0</td>\n",
              "      <td>0</td>\n",
              "      <td>1</td>\n",
              "    </tr>\n",
              "    <tr>\n",
              "      <th>935202</th>\n",
              "      <td>34.0472</td>\n",
              "      <td>-118.3090</td>\n",
              "      <td>0</td>\n",
              "      <td>0</td>\n",
              "      <td>0</td>\n",
              "      <td>0</td>\n",
              "      <td>0</td>\n",
              "      <td>0</td>\n",
              "      <td>0</td>\n",
              "      <td>0</td>\n",
              "      <td>0</td>\n",
              "      <td>0</td>\n",
              "      <td>0</td>\n",
              "      <td>1</td>\n",
              "      <td>0</td>\n",
              "      <td>0</td>\n",
              "      <td>0</td>\n",
              "      <td>0</td>\n",
              "      <td>0</td>\n",
              "      <td>0</td>\n",
              "      <td>0</td>\n",
              "      <td>0</td>\n",
              "      <td>0</td>\n",
              "      <td>1</td>\n",
              "      <td>0</td>\n",
              "      <td>0</td>\n",
              "      <td>0</td>\n",
              "      <td>0</td>\n",
              "    </tr>\n",
              "    <tr>\n",
              "      <th>935204</th>\n",
              "      <td>34.1938</td>\n",
              "      <td>-118.5928</td>\n",
              "      <td>0</td>\n",
              "      <td>0</td>\n",
              "      <td>0</td>\n",
              "      <td>0</td>\n",
              "      <td>0</td>\n",
              "      <td>0</td>\n",
              "      <td>0</td>\n",
              "      <td>0</td>\n",
              "      <td>0</td>\n",
              "      <td>0</td>\n",
              "      <td>0</td>\n",
              "      <td>0</td>\n",
              "      <td>0</td>\n",
              "      <td>0</td>\n",
              "      <td>0</td>\n",
              "      <td>0</td>\n",
              "      <td>1</td>\n",
              "      <td>0</td>\n",
              "      <td>0</td>\n",
              "      <td>0</td>\n",
              "      <td>0</td>\n",
              "      <td>0</td>\n",
              "      <td>0</td>\n",
              "      <td>0</td>\n",
              "      <td>0</td>\n",
              "      <td>1</td>\n",
              "    </tr>\n",
              "    <tr>\n",
              "      <th>935209</th>\n",
              "      <td>34.1688</td>\n",
              "      <td>-118.6145</td>\n",
              "      <td>0</td>\n",
              "      <td>0</td>\n",
              "      <td>0</td>\n",
              "      <td>0</td>\n",
              "      <td>0</td>\n",
              "      <td>0</td>\n",
              "      <td>0</td>\n",
              "      <td>0</td>\n",
              "      <td>0</td>\n",
              "      <td>0</td>\n",
              "      <td>0</td>\n",
              "      <td>0</td>\n",
              "      <td>0</td>\n",
              "      <td>0</td>\n",
              "      <td>0</td>\n",
              "      <td>0</td>\n",
              "      <td>1</td>\n",
              "      <td>0</td>\n",
              "      <td>0</td>\n",
              "      <td>0</td>\n",
              "      <td>0</td>\n",
              "      <td>1</td>\n",
              "      <td>0</td>\n",
              "      <td>0</td>\n",
              "      <td>0</td>\n",
              "      <td>0</td>\n",
              "    </tr>\n",
              "    <tr>\n",
              "      <th>935230</th>\n",
              "      <td>0.0000</td>\n",
              "      <td>0.0000</td>\n",
              "      <td>0</td>\n",
              "      <td>0</td>\n",
              "      <td>0</td>\n",
              "      <td>0</td>\n",
              "      <td>0</td>\n",
              "      <td>0</td>\n",
              "      <td>0</td>\n",
              "      <td>0</td>\n",
              "      <td>0</td>\n",
              "      <td>0</td>\n",
              "      <td>0</td>\n",
              "      <td>0</td>\n",
              "      <td>0</td>\n",
              "      <td>0</td>\n",
              "      <td>0</td>\n",
              "      <td>0</td>\n",
              "      <td>1</td>\n",
              "      <td>0</td>\n",
              "      <td>0</td>\n",
              "      <td>0</td>\n",
              "      <td>0</td>\n",
              "      <td>0</td>\n",
              "      <td>0</td>\n",
              "      <td>0</td>\n",
              "      <td>0</td>\n",
              "      <td>1</td>\n",
              "    </tr>\n",
              "  </tbody>\n",
              "</table>\n",
              "<p>125350 rows × 28 columns</p>\n",
              "</div>"
            ],
            "text/plain": [
              "        Latitude  Longitude  _77th Street  ...  _Evening  _Morning  _Night\n",
              "19       34.0419  -118.2669             0  ...         0         0       0\n",
              "23       34.2609  -118.4402             0  ...         0         0       0\n",
              "30       34.0302  -118.2077             0  ...         1         0       0\n",
              "35       34.0577  -118.2519             0  ...         0         1       0\n",
              "88       34.1069  -118.2863             0  ...         0         0       0\n",
              "...          ...        ...           ...  ...       ...       ...     ...\n",
              "935181   34.0443  -118.2892             0  ...         0         0       1\n",
              "935202   34.0472  -118.3090             0  ...         0         0       0\n",
              "935204   34.1938  -118.5928             0  ...         0         0       1\n",
              "935209   34.1688  -118.6145             0  ...         0         0       0\n",
              "935230    0.0000     0.0000             0  ...         0         0       1\n",
              "\n",
              "[125350 rows x 28 columns]"
            ]
          },
          "metadata": {
            "tags": []
          },
          "execution_count": 23
        }
      ]
    },
    {
      "cell_type": "code",
      "metadata": {
        "id": "ortxS82BGhLl"
      },
      "source": [
        "#  0 => 'Low'\n",
        "#  1 => 'Moderate'\n",
        "#  2 => 'High'"
      ],
      "execution_count": null,
      "outputs": []
    },
    {
      "cell_type": "code",
      "metadata": {
        "id": "xrolfx0GCMPr",
        "colab": {
          "base_uri": "https://localhost:8080/",
          "height": 419
        },
        "outputId": "48d23782-3d19-4186-b44c-c815209ff6f8"
      },
      "source": [
        "Y"
      ],
      "execution_count": null,
      "outputs": [
        {
          "output_type": "execute_result",
          "data": {
            "text/html": [
              "<div>\n",
              "<style scoped>\n",
              "    .dataframe tbody tr th:only-of-type {\n",
              "        vertical-align: middle;\n",
              "    }\n",
              "\n",
              "    .dataframe tbody tr th {\n",
              "        vertical-align: top;\n",
              "    }\n",
              "\n",
              "    .dataframe thead th {\n",
              "        text-align: right;\n",
              "    }\n",
              "</style>\n",
              "<table border=\"1\" class=\"dataframe\">\n",
              "  <thead>\n",
              "    <tr style=\"text-align: right;\">\n",
              "      <th></th>\n",
              "      <th>Attention</th>\n",
              "    </tr>\n",
              "  </thead>\n",
              "  <tbody>\n",
              "    <tr>\n",
              "      <th>19</th>\n",
              "      <td>1</td>\n",
              "    </tr>\n",
              "    <tr>\n",
              "      <th>23</th>\n",
              "      <td>2</td>\n",
              "    </tr>\n",
              "    <tr>\n",
              "      <th>30</th>\n",
              "      <td>0</td>\n",
              "    </tr>\n",
              "    <tr>\n",
              "      <th>35</th>\n",
              "      <td>0</td>\n",
              "    </tr>\n",
              "    <tr>\n",
              "      <th>88</th>\n",
              "      <td>1</td>\n",
              "    </tr>\n",
              "    <tr>\n",
              "      <th>...</th>\n",
              "      <td>...</td>\n",
              "    </tr>\n",
              "    <tr>\n",
              "      <th>935181</th>\n",
              "      <td>2</td>\n",
              "    </tr>\n",
              "    <tr>\n",
              "      <th>935202</th>\n",
              "      <td>0</td>\n",
              "    </tr>\n",
              "    <tr>\n",
              "      <th>935204</th>\n",
              "      <td>2</td>\n",
              "    </tr>\n",
              "    <tr>\n",
              "      <th>935209</th>\n",
              "      <td>1</td>\n",
              "    </tr>\n",
              "    <tr>\n",
              "      <th>935230</th>\n",
              "      <td>0</td>\n",
              "    </tr>\n",
              "  </tbody>\n",
              "</table>\n",
              "<p>125350 rows × 1 columns</p>\n",
              "</div>"
            ],
            "text/plain": [
              "        Attention\n",
              "19              1\n",
              "23              2\n",
              "30              0\n",
              "35              0\n",
              "88              1\n",
              "...           ...\n",
              "935181          2\n",
              "935202          0\n",
              "935204          2\n",
              "935209          1\n",
              "935230          0\n",
              "\n",
              "[125350 rows x 1 columns]"
            ]
          },
          "metadata": {
            "tags": []
          },
          "execution_count": 25
        }
      ]
    },
    {
      "cell_type": "markdown",
      "metadata": {
        "id": "ljXPUFBwKHTw"
      },
      "source": [
        "LINEAR REGRESSION"
      ]
    },
    {
      "cell_type": "code",
      "metadata": {
        "id": "wKraFaTGbyIP"
      },
      "source": [
        "#import sklearn linear regression model  \n",
        "from sklearn.linear_model import LinearRegression\n",
        "from sklearn.model_selection import train_test_split\n",
        "\n",
        "#import sklearn r sqaured and mean square error library \n",
        "from sklearn.metrics import r2_score,mean_squared_error\n",
        "from math import sqrt"
      ],
      "execution_count": null,
      "outputs": []
    },
    {
      "cell_type": "code",
      "metadata": {
        "id": "MlyfCasHbyfa"
      },
      "source": [
        "def regression(x,y):\n",
        "    \n",
        "# Train Test split using sklearn\n",
        "    X_train, X_test, y_train, y_test = train_test_split(x, y, test_size=0.30, random_state=34)\n",
        "    \n",
        "# Apply Linear Regression Model \n",
        "    model = LinearRegression()\n",
        "    \n",
        "# Fit X_train and y_train into the linear regression model \n",
        "    model.fit(X_train,y_train)\n",
        "    \n",
        "# Predict for X_test values\n",
        "    predictions = model.predict(X_test)\n",
        "    \n",
        "# Calculate linear regression model score(R2) on training dataset\n",
        "    train_score = model.score(X_train, y_train)\n",
        "    print(\"Training score: \",train_score)\n",
        "# Calculate linear regression model score(R2) on testing dataset\n",
        "    test_score = model.score(X_test, y_test)\n",
        "    print(\"Test score: \",test_score)\n",
        "\n",
        "# The above training and testing scores are their respective R2 score only.\n",
        "# Print other statistical measures to analyze the results\n",
        "    print(\"R2 score: \",r2_score(y_test, predictions))\n",
        "\n",
        "# For Example: R2 score of 0.626 i.e 62.6% signifies that there is 62.6% less variation around the line than the mean.\n",
        "# Reference to learn about significance of R2 score: https://www.youtube.com/watch?v=2AQKmw14mHM\n",
        "    mse = mean_squared_error(y_test, predictions)\n",
        "    rmse = sqrt(mean_squared_error(y_test, predictions))\n",
        "    print(\"Mean Square Error: \",mse)\n",
        "    print(\"Root Mean Square Error: \",rmse)"
      ],
      "execution_count": null,
      "outputs": []
    },
    {
      "cell_type": "code",
      "metadata": {
        "id": "WhzyVYoycUSy",
        "colab": {
          "base_uri": "https://localhost:8080/"
        },
        "outputId": "6348f9e4-6ed1-4824-ab52-6620635c9db9"
      },
      "source": [
        "# Apply linear regression\n",
        "regression(X,Y)"
      ],
      "execution_count": null,
      "outputs": [
        {
          "output_type": "stream",
          "text": [
            "Training score:  0.014414109760273575\n",
            "Test score:  0.01332240085247316\n",
            "R2 score:  0.01332240085247316\n",
            "Mean Square Error:  0.6847974601647099\n",
            "Root Mean Square Error:  0.8275249000270082\n"
          ],
          "name": "stdout"
        }
      ]
    },
    {
      "cell_type": "markdown",
      "metadata": {
        "id": "cc92J8I2J9dy"
      },
      "source": [
        "K NEAREST NEIGHBOUR(K-NN)"
      ]
    },
    {
      "cell_type": "code",
      "metadata": {
        "id": "4IrqJEkZd9y0"
      },
      "source": [
        "# Apply K Nearest Neighbour\n",
        "from sklearn.neighbors import KNeighborsClassifier"
      ],
      "execution_count": null,
      "outputs": []
    },
    {
      "cell_type": "code",
      "metadata": {
        "id": "5vqIMp-1d100",
        "colab": {
          "base_uri": "https://localhost:8080/"
        },
        "outputId": "ce5dce5a-3130-4020-de4a-99f8bb397cbc"
      },
      "source": [
        "# Define the model\n",
        "knn = KNeighborsClassifier(n_neighbors=25)\n",
        "\n",
        "# Train, test split the model\n",
        "X_train, X_test, y_train, y_test = train_test_split(X, Y, test_size=0.30, random_state=34)\n",
        "\n",
        "# Fit the model\n",
        "knn.fit(X_train,y_train)"
      ],
      "execution_count": null,
      "outputs": [
        {
          "output_type": "stream",
          "text": [
            "/usr/local/lib/python3.7/dist-packages/ipykernel_launcher.py:8: DataConversionWarning: A column-vector y was passed when a 1d array was expected. Please change the shape of y to (n_samples, ), for example using ravel().\n",
            "  \n"
          ],
          "name": "stderr"
        },
        {
          "output_type": "execute_result",
          "data": {
            "text/plain": [
              "KNeighborsClassifier(algorithm='auto', leaf_size=30, metric='minkowski',\n",
              "                     metric_params=None, n_jobs=None, n_neighbors=25, p=2,\n",
              "                     weights='uniform')"
            ]
          },
          "metadata": {
            "tags": []
          },
          "execution_count": 40
        }
      ]
    },
    {
      "cell_type": "code",
      "metadata": {
        "id": "7qA7D-29d-7S",
        "colab": {
          "base_uri": "https://localhost:8080/"
        },
        "outputId": "ef29494f-d1a5-4dbf-8ddf-fe2de5e03f11"
      },
      "source": [
        "# KNN score on Testing\n",
        "testing_score = knn.score(X_test,y_test)\n",
        "print(testing_score)\n",
        "\n",
        "# KNN score on Training\n",
        "training_score = knn.score(X_train,y_train)\n",
        "print(training_score)\n",
        "\n",
        "# Predicted Values\n",
        "y_pred = knn.predict(X_test)\n",
        "print(y_pred)\n",
        "\n",
        "print(\"\\n Classification Report \\n\",classification_report(y_test,y_pred))"
      ],
      "execution_count": null,
      "outputs": [
        {
          "output_type": "stream",
          "text": [
            "0.3780880202100784\n",
            "0.4606302353410451\n",
            "[2 0 0 ... 1 0 0]\n",
            "\n",
            " Classification Report \n",
            "               precision    recall  f1-score   support\n",
            "\n",
            "           0       0.37      0.42      0.40     12688\n",
            "           1       0.35      0.28      0.31     11491\n",
            "           2       0.40      0.43      0.41     13426\n",
            "\n",
            "    accuracy                           0.38     37605\n",
            "   macro avg       0.37      0.37      0.37     37605\n",
            "weighted avg       0.38      0.38      0.38     37605\n",
            "\n"
          ],
          "name": "stdout"
        }
      ]
    },
    {
      "cell_type": "code",
      "metadata": {
        "id": "xyqjxOVHeIQI",
        "colab": {
          "base_uri": "https://localhost:8080/"
        },
        "outputId": "d0a43e93-e541-4208-e4dd-beae89f0a61a"
      },
      "source": [
        "error_rate = []\n",
        "for i in range(1,50):\n",
        "    \n",
        "    knn = KNeighborsClassifier(n_neighbors=i)\n",
        "    knn.fit(X_train,y_train)\n",
        "    pred_i = knn.predict(X_test)\n",
        "    pred_i = pred_i.reshape(-1,1)\n",
        "    error_rate.append(np.mean(pred_i != y_test))"
      ],
      "execution_count": null,
      "outputs": [
        {
          "output_type": "stream",
          "text": [
            "/usr/local/lib/python3.7/dist-packages/ipykernel_launcher.py:5: DataConversionWarning: A column-vector y was passed when a 1d array was expected. Please change the shape of y to (n_samples, ), for example using ravel().\n",
            "  \"\"\"\n",
            "/usr/local/lib/python3.7/dist-packages/ipykernel_launcher.py:5: DataConversionWarning: A column-vector y was passed when a 1d array was expected. Please change the shape of y to (n_samples, ), for example using ravel().\n",
            "  \"\"\"\n",
            "/usr/local/lib/python3.7/dist-packages/ipykernel_launcher.py:5: DataConversionWarning: A column-vector y was passed when a 1d array was expected. Please change the shape of y to (n_samples, ), for example using ravel().\n",
            "  \"\"\"\n",
            "/usr/local/lib/python3.7/dist-packages/ipykernel_launcher.py:5: DataConversionWarning: A column-vector y was passed when a 1d array was expected. Please change the shape of y to (n_samples, ), for example using ravel().\n",
            "  \"\"\"\n",
            "/usr/local/lib/python3.7/dist-packages/ipykernel_launcher.py:5: DataConversionWarning: A column-vector y was passed when a 1d array was expected. Please change the shape of y to (n_samples, ), for example using ravel().\n",
            "  \"\"\"\n",
            "/usr/local/lib/python3.7/dist-packages/ipykernel_launcher.py:5: DataConversionWarning: A column-vector y was passed when a 1d array was expected. Please change the shape of y to (n_samples, ), for example using ravel().\n",
            "  \"\"\"\n",
            "/usr/local/lib/python3.7/dist-packages/ipykernel_launcher.py:5: DataConversionWarning: A column-vector y was passed when a 1d array was expected. Please change the shape of y to (n_samples, ), for example using ravel().\n",
            "  \"\"\"\n",
            "/usr/local/lib/python3.7/dist-packages/ipykernel_launcher.py:5: DataConversionWarning: A column-vector y was passed when a 1d array was expected. Please change the shape of y to (n_samples, ), for example using ravel().\n",
            "  \"\"\"\n",
            "/usr/local/lib/python3.7/dist-packages/ipykernel_launcher.py:5: DataConversionWarning: A column-vector y was passed when a 1d array was expected. Please change the shape of y to (n_samples, ), for example using ravel().\n",
            "  \"\"\"\n",
            "/usr/local/lib/python3.7/dist-packages/ipykernel_launcher.py:5: DataConversionWarning: A column-vector y was passed when a 1d array was expected. Please change the shape of y to (n_samples, ), for example using ravel().\n",
            "  \"\"\"\n",
            "/usr/local/lib/python3.7/dist-packages/ipykernel_launcher.py:5: DataConversionWarning: A column-vector y was passed when a 1d array was expected. Please change the shape of y to (n_samples, ), for example using ravel().\n",
            "  \"\"\"\n",
            "/usr/local/lib/python3.7/dist-packages/ipykernel_launcher.py:5: DataConversionWarning: A column-vector y was passed when a 1d array was expected. Please change the shape of y to (n_samples, ), for example using ravel().\n",
            "  \"\"\"\n",
            "/usr/local/lib/python3.7/dist-packages/ipykernel_launcher.py:5: DataConversionWarning: A column-vector y was passed when a 1d array was expected. Please change the shape of y to (n_samples, ), for example using ravel().\n",
            "  \"\"\"\n",
            "/usr/local/lib/python3.7/dist-packages/ipykernel_launcher.py:5: DataConversionWarning: A column-vector y was passed when a 1d array was expected. Please change the shape of y to (n_samples, ), for example using ravel().\n",
            "  \"\"\"\n",
            "/usr/local/lib/python3.7/dist-packages/ipykernel_launcher.py:5: DataConversionWarning: A column-vector y was passed when a 1d array was expected. Please change the shape of y to (n_samples, ), for example using ravel().\n",
            "  \"\"\"\n",
            "/usr/local/lib/python3.7/dist-packages/ipykernel_launcher.py:5: DataConversionWarning: A column-vector y was passed when a 1d array was expected. Please change the shape of y to (n_samples, ), for example using ravel().\n",
            "  \"\"\"\n",
            "/usr/local/lib/python3.7/dist-packages/ipykernel_launcher.py:5: DataConversionWarning: A column-vector y was passed when a 1d array was expected. Please change the shape of y to (n_samples, ), for example using ravel().\n",
            "  \"\"\"\n",
            "/usr/local/lib/python3.7/dist-packages/ipykernel_launcher.py:5: DataConversionWarning: A column-vector y was passed when a 1d array was expected. Please change the shape of y to (n_samples, ), for example using ravel().\n",
            "  \"\"\"\n",
            "/usr/local/lib/python3.7/dist-packages/ipykernel_launcher.py:5: DataConversionWarning: A column-vector y was passed when a 1d array was expected. Please change the shape of y to (n_samples, ), for example using ravel().\n",
            "  \"\"\"\n",
            "/usr/local/lib/python3.7/dist-packages/ipykernel_launcher.py:5: DataConversionWarning: A column-vector y was passed when a 1d array was expected. Please change the shape of y to (n_samples, ), for example using ravel().\n",
            "  \"\"\"\n",
            "/usr/local/lib/python3.7/dist-packages/ipykernel_launcher.py:5: DataConversionWarning: A column-vector y was passed when a 1d array was expected. Please change the shape of y to (n_samples, ), for example using ravel().\n",
            "  \"\"\"\n",
            "/usr/local/lib/python3.7/dist-packages/ipykernel_launcher.py:5: DataConversionWarning: A column-vector y was passed when a 1d array was expected. Please change the shape of y to (n_samples, ), for example using ravel().\n",
            "  \"\"\"\n",
            "/usr/local/lib/python3.7/dist-packages/ipykernel_launcher.py:5: DataConversionWarning: A column-vector y was passed when a 1d array was expected. Please change the shape of y to (n_samples, ), for example using ravel().\n",
            "  \"\"\"\n",
            "/usr/local/lib/python3.7/dist-packages/ipykernel_launcher.py:5: DataConversionWarning: A column-vector y was passed when a 1d array was expected. Please change the shape of y to (n_samples, ), for example using ravel().\n",
            "  \"\"\"\n",
            "/usr/local/lib/python3.7/dist-packages/ipykernel_launcher.py:5: DataConversionWarning: A column-vector y was passed when a 1d array was expected. Please change the shape of y to (n_samples, ), for example using ravel().\n",
            "  \"\"\"\n",
            "/usr/local/lib/python3.7/dist-packages/ipykernel_launcher.py:5: DataConversionWarning: A column-vector y was passed when a 1d array was expected. Please change the shape of y to (n_samples, ), for example using ravel().\n",
            "  \"\"\"\n",
            "/usr/local/lib/python3.7/dist-packages/ipykernel_launcher.py:5: DataConversionWarning: A column-vector y was passed when a 1d array was expected. Please change the shape of y to (n_samples, ), for example using ravel().\n",
            "  \"\"\"\n",
            "/usr/local/lib/python3.7/dist-packages/ipykernel_launcher.py:5: DataConversionWarning: A column-vector y was passed when a 1d array was expected. Please change the shape of y to (n_samples, ), for example using ravel().\n",
            "  \"\"\"\n",
            "/usr/local/lib/python3.7/dist-packages/ipykernel_launcher.py:5: DataConversionWarning: A column-vector y was passed when a 1d array was expected. Please change the shape of y to (n_samples, ), for example using ravel().\n",
            "  \"\"\"\n",
            "/usr/local/lib/python3.7/dist-packages/ipykernel_launcher.py:5: DataConversionWarning: A column-vector y was passed when a 1d array was expected. Please change the shape of y to (n_samples, ), for example using ravel().\n",
            "  \"\"\"\n",
            "/usr/local/lib/python3.7/dist-packages/ipykernel_launcher.py:5: DataConversionWarning: A column-vector y was passed when a 1d array was expected. Please change the shape of y to (n_samples, ), for example using ravel().\n",
            "  \"\"\"\n",
            "/usr/local/lib/python3.7/dist-packages/ipykernel_launcher.py:5: DataConversionWarning: A column-vector y was passed when a 1d array was expected. Please change the shape of y to (n_samples, ), for example using ravel().\n",
            "  \"\"\"\n",
            "/usr/local/lib/python3.7/dist-packages/ipykernel_launcher.py:5: DataConversionWarning: A column-vector y was passed when a 1d array was expected. Please change the shape of y to (n_samples, ), for example using ravel().\n",
            "  \"\"\"\n",
            "/usr/local/lib/python3.7/dist-packages/ipykernel_launcher.py:5: DataConversionWarning: A column-vector y was passed when a 1d array was expected. Please change the shape of y to (n_samples, ), for example using ravel().\n",
            "  \"\"\"\n",
            "/usr/local/lib/python3.7/dist-packages/ipykernel_launcher.py:5: DataConversionWarning: A column-vector y was passed when a 1d array was expected. Please change the shape of y to (n_samples, ), for example using ravel().\n",
            "  \"\"\"\n",
            "/usr/local/lib/python3.7/dist-packages/ipykernel_launcher.py:5: DataConversionWarning: A column-vector y was passed when a 1d array was expected. Please change the shape of y to (n_samples, ), for example using ravel().\n",
            "  \"\"\"\n",
            "/usr/local/lib/python3.7/dist-packages/ipykernel_launcher.py:5: DataConversionWarning: A column-vector y was passed when a 1d array was expected. Please change the shape of y to (n_samples, ), for example using ravel().\n",
            "  \"\"\"\n",
            "/usr/local/lib/python3.7/dist-packages/ipykernel_launcher.py:5: DataConversionWarning: A column-vector y was passed when a 1d array was expected. Please change the shape of y to (n_samples, ), for example using ravel().\n",
            "  \"\"\"\n",
            "/usr/local/lib/python3.7/dist-packages/ipykernel_launcher.py:5: DataConversionWarning: A column-vector y was passed when a 1d array was expected. Please change the shape of y to (n_samples, ), for example using ravel().\n",
            "  \"\"\"\n",
            "/usr/local/lib/python3.7/dist-packages/ipykernel_launcher.py:5: DataConversionWarning: A column-vector y was passed when a 1d array was expected. Please change the shape of y to (n_samples, ), for example using ravel().\n",
            "  \"\"\"\n",
            "/usr/local/lib/python3.7/dist-packages/ipykernel_launcher.py:5: DataConversionWarning: A column-vector y was passed when a 1d array was expected. Please change the shape of y to (n_samples, ), for example using ravel().\n",
            "  \"\"\"\n",
            "/usr/local/lib/python3.7/dist-packages/ipykernel_launcher.py:5: DataConversionWarning: A column-vector y was passed when a 1d array was expected. Please change the shape of y to (n_samples, ), for example using ravel().\n",
            "  \"\"\"\n",
            "/usr/local/lib/python3.7/dist-packages/ipykernel_launcher.py:5: DataConversionWarning: A column-vector y was passed when a 1d array was expected. Please change the shape of y to (n_samples, ), for example using ravel().\n",
            "  \"\"\"\n",
            "/usr/local/lib/python3.7/dist-packages/ipykernel_launcher.py:5: DataConversionWarning: A column-vector y was passed when a 1d array was expected. Please change the shape of y to (n_samples, ), for example using ravel().\n",
            "  \"\"\"\n",
            "/usr/local/lib/python3.7/dist-packages/ipykernel_launcher.py:5: DataConversionWarning: A column-vector y was passed when a 1d array was expected. Please change the shape of y to (n_samples, ), for example using ravel().\n",
            "  \"\"\"\n",
            "/usr/local/lib/python3.7/dist-packages/ipykernel_launcher.py:5: DataConversionWarning: A column-vector y was passed when a 1d array was expected. Please change the shape of y to (n_samples, ), for example using ravel().\n",
            "  \"\"\"\n",
            "/usr/local/lib/python3.7/dist-packages/ipykernel_launcher.py:5: DataConversionWarning: A column-vector y was passed when a 1d array was expected. Please change the shape of y to (n_samples, ), for example using ravel().\n",
            "  \"\"\"\n",
            "/usr/local/lib/python3.7/dist-packages/ipykernel_launcher.py:5: DataConversionWarning: A column-vector y was passed when a 1d array was expected. Please change the shape of y to (n_samples, ), for example using ravel().\n",
            "  \"\"\"\n",
            "/usr/local/lib/python3.7/dist-packages/ipykernel_launcher.py:5: DataConversionWarning: A column-vector y was passed when a 1d array was expected. Please change the shape of y to (n_samples, ), for example using ravel().\n",
            "  \"\"\"\n"
          ],
          "name": "stderr"
        }
      ]
    },
    {
      "cell_type": "code",
      "metadata": {
        "id": "2w2Bs2c1eY4L",
        "colab": {
          "base_uri": "https://localhost:8080/",
          "height": 421
        },
        "outputId": "6a29f274-6545-4fec-eb58-13e67c1d622f"
      },
      "source": [
        "plt.figure(figsize=(10,6))\n",
        "plt.plot(range(1,50),error_rate,color='blue', linestyle='dashed', marker='o',\n",
        "         markerfacecolor='red', markersize=5)\n",
        "plt.title('Error Rate vs. K Value')\n",
        "plt.xlabel('K')\n",
        "plt.ylabel('Error Rate')"
      ],
      "execution_count": null,
      "outputs": [
        {
          "output_type": "execute_result",
          "data": {
            "text/plain": [
              "Text(0, 0.5, 'Error Rate')"
            ]
          },
          "metadata": {
            "tags": []
          },
          "execution_count": 33
        },
        {
          "output_type": "display_data",
          "data": {
            "image/png": "[encoded data removed]",
            "text/plain": [
              "<Figure size 720x432 with 1 Axes>"
            ]
          },
          "metadata": {
            "tags": [],
            "needs_background": "light"
          }
        }
      ]
    },
    {
      "cell_type": "markdown",
      "metadata": {
        "id": "m4LOXr8eJ3G_"
      },
      "source": [
        "LOGISTIC REGRESSION"
      ]
    },
    {
      "cell_type": "code",
      "metadata": {
        "id": "1klnIrYWTBf7",
        "colab": {
          "base_uri": "https://localhost:8080/"
        },
        "outputId": "eeb990c2-220f-4e51-d69b-da3483e02505"
      },
      "source": [
        "# Apply Logistic Regression\n",
        "from sklearn.linear_model import LogisticRegression\n",
        "\n",
        "# Prepare Logistic Regression Model\n",
        "logisticRegr = LogisticRegression()\n",
        "\n",
        "# Fit the Logistic Regression Model\n",
        "logisticRegr.fit(X_train, y_train)\n",
        "\n",
        "# Predict\n",
        "predictions = logisticRegr.predict(X_test)\n",
        "\n",
        "# Score\n",
        "score = logisticRegr.score(X_test, y_test)\n",
        "print(score)\n",
        "\n",
        "print(\"\\n Classification Report \\n\",classification_report(y_test,predictions))"
      ],
      "execution_count": null,
      "outputs": [
        {
          "output_type": "stream",
          "text": [
            "/usr/local/lib/python3.7/dist-packages/sklearn/utils/validation.py:760: DataConversionWarning: A column-vector y was passed when a 1d array was expected. Please change the shape of y to (n_samples, ), for example using ravel().\n",
            "  y = column_or_1d(y, warn=True)\n"
          ],
          "name": "stderr"
        },
        {
          "output_type": "stream",
          "text": [
            "0.38869831139476135\n",
            "\n",
            " Classification Report \n",
            "               precision    recall  f1-score   support\n",
            "\n",
            "           0       0.38      0.44      0.41     12688\n",
            "           1       0.36      0.07      0.12     11491\n",
            "           2       0.40      0.61      0.48     13426\n",
            "\n",
            "    accuracy                           0.39     37605\n",
            "   macro avg       0.38      0.37      0.34     37605\n",
            "weighted avg       0.38      0.39      0.35     37605\n",
            "\n"
          ],
          "name": "stdout"
        },
        {
          "output_type": "stream",
          "text": [
            "/usr/local/lib/python3.7/dist-packages/sklearn/linear_model/_logistic.py:940: ConvergenceWarning: lbfgs failed to converge (status=1):\n",
            "STOP: TOTAL NO. of ITERATIONS REACHED LIMIT.\n",
            "\n",
            "Increase the number of iterations (max_iter) or scale the data as shown in:\n",
            "    https://scikit-learn.org/stable/modules/preprocessing.html\n",
            "Please also refer to the documentation for alternative solver options:\n",
            "    https://scikit-learn.org/stable/modules/linear_model.html#logistic-regression\n",
            "  extra_warning_msg=_LOGISTIC_SOLVER_CONVERGENCE_MSG)\n"
          ],
          "name": "stderr"
        }
      ]
    },
    {
      "cell_type": "markdown",
      "metadata": {
        "id": "RjY7r42UJwgI"
      },
      "source": [
        "CONVOLUTIONAL NEURAL NETWORK"
      ]
    },
    {
      "cell_type": "code",
      "metadata": {
        "id": "jbduh3CsdB9K",
        "colab": {
          "base_uri": "https://localhost:8080/"
        },
        "outputId": "c0d8674d-cf9b-4ba1-edf7-7e8e8263c5a1"
      },
      "source": [
        "# Import Libraries\n",
        "from sklearn.preprocessing import LabelEncoder\n",
        "from keras.utils import np_utils\n",
        "from keras.models import Sequential\n",
        "from keras.layers import Dense\n",
        "\n",
        "# encode class values as integers\n",
        "encoder = LabelEncoder()\n",
        "encoder.fit(Y)\n",
        "encoded_Y = encoder.transform(Y)\n",
        "\n",
        "# convert integers to dummy variables (i.e. one hot encoded)\n",
        "dummy_y = np_utils.to_categorical(encoded_Y)\n",
        "\n",
        "# Train Test Split\n",
        "X_train, X_test, y_train, y_test = train_test_split(X, dummy_y, test_size=0.30, random_state=34)\n",
        "\n",
        "# Define Convolutional Neural Network \n",
        "model = Sequential()\n",
        "model.add(Dense(128, input_dim=28, kernel_initializer='he_uniform', activation='relu'))\n",
        "model.add(Dense(64, activation='relu'))\n",
        "model.add(Dense(32, activation='relu'))\n",
        "model.add(Dense(3, activation='softmax'))\n",
        "\n",
        "# CNN compile\n",
        "model.compile(loss='categorical_crossentropy', optimizer='adam', metrics=['accuracy'])\n",
        "\n",
        "# Model Summary\n",
        "model.summary()\n",
        "\n",
        "# Fit the model\n",
        "model.fit(X_train, y_train, epochs=50, batch_size=32, verbose=0)\n",
        "\n",
        "# Predict \n",
        "predict = model.predict(X_test)\n",
        "print(predict)\n",
        "\n",
        "# Accuracy\n",
        "Testing_Accuracy = model.evaluate(X_test,y_test)[1]\n",
        "print(Testing_Accuracy)"
      ],
      "execution_count": null,
      "outputs": [
        {
          "output_type": "stream",
          "text": [
            "/usr/local/lib/python3.7/dist-packages/sklearn/preprocessing/_label.py:235: DataConversionWarning: A column-vector y was passed when a 1d array was expected. Please change the shape of y to (n_samples, ), for example using ravel().\n",
            "  y = column_or_1d(y, warn=True)\n",
            "/usr/local/lib/python3.7/dist-packages/sklearn/preprocessing/_label.py:268: DataConversionWarning: A column-vector y was passed when a 1d array was expected. Please change the shape of y to (n_samples, ), for example using ravel().\n",
            "  y = column_or_1d(y, warn=True)\n"
          ],
          "name": "stderr"
        },
        {
          "output_type": "stream",
          "text": [
            "Model: \"sequential\"\n",
            "_________________________________________________________________\n",
            "Layer (type)                 Output Shape              Param #   \n",
            "=================================================================\n",
            "dense (Dense)                (None, 128)               3712      \n",
            "_________________________________________________________________\n",
            "dense_1 (Dense)              (None, 64)                8256      \n",
            "_________________________________________________________________\n",
            "dense_2 (Dense)              (None, 32)                2080      \n",
            "_________________________________________________________________\n",
            "dense_3 (Dense)              (None, 3)                 99        \n",
            "=================================================================\n",
            "Total params: 14,147\n",
            "Trainable params: 14,147\n",
            "Non-trainable params: 0\n",
            "_________________________________________________________________\n",
            "[[0.33010054 0.31003726 0.35986227]\n",
            " [0.33010054 0.31003726 0.35986227]\n",
            " [0.33010054 0.31003726 0.35986227]\n",
            " ...\n",
            " [0.33010054 0.31003726 0.35986227]\n",
            " [0.33010054 0.31003726 0.35986227]\n",
            " [0.39156696 0.29706857 0.31136444]]\n",
            "1176/1176 [==============================] - 1s 1ms/step - loss: 1.0981 - accuracy: 0.3581\n",
            "0.3581438660621643\n"
          ],
          "name": "stdout"
        }
      ]
    },
    {
      "cell_type": "code",
      "metadata": {
        "id": "CSoEOvQ3Pkam",
        "colab": {
          "base_uri": "https://localhost:8080/"
        },
        "outputId": "b637aa62-23ce-43c9-e343-98948ab24502"
      },
      "source": [
        "y_classes_cnn = [np.argmax(element) for element in predict]\n",
        "y_classes_test = [np.argmax(element) for element in y_test]\n",
        "# y_classes_test\n",
        "print(\"\\n Classification Report \\n\",classification_report(y_classes_test,y_classes_cnn))"
      ],
      "execution_count": null,
      "outputs": [
        {
          "output_type": "stream",
          "text": [
            "\n",
            " Classification Report \n",
            "               precision    recall  f1-score   support\n",
            "\n",
            "           0       0.38      0.01      0.01     12688\n",
            "           1       0.40      0.00      0.01     11491\n",
            "           2       0.36      0.99      0.53     13426\n",
            "\n",
            "    accuracy                           0.36     37605\n",
            "   macro avg       0.38      0.33      0.18     37605\n",
            "weighted avg       0.38      0.36      0.19     37605\n",
            "\n"
          ],
          "name": "stdout"
        }
      ]
    },
    {
      "cell_type": "markdown",
      "metadata": {
        "id": "8Td3yOCdO8u_"
      },
      "source": [
        "Random Forest"
      ]
    },
    {
      "cell_type": "code",
      "metadata": {
        "id": "-Pe6t96FFQR_",
        "colab": {
          "base_uri": "https://localhost:8080/"
        },
        "outputId": "696a8a5d-3944-452f-dd61-370f3c382115"
      },
      "source": [
        "# Implement Random Forest Classifier\n",
        "from sklearn.ensemble import RandomForestClassifier\n",
        "rf = RandomForestClassifier(n_estimators=20)\n",
        "rf = rf.fit(X, Y)\n",
        "rf.score(X, Y)"
      ],
      "execution_count": null,
      "outputs": [
        {
          "output_type": "stream",
          "text": [
            "/usr/local/lib/python3.7/dist-packages/ipykernel_launcher.py:4: DataConversionWarning: A column-vector y was passed when a 1d array was expected. Please change the shape of y to (n_samples,), for example using ravel().\n",
            "  after removing the cwd from sys.path.\n"
          ],
          "name": "stderr"
        },
        {
          "output_type": "execute_result",
          "data": {
            "text/plain": [
              "0.6974710809732748"
            ]
          },
          "metadata": {
            "tags": []
          },
          "execution_count": 37
        }
      ]
    },
    {
      "cell_type": "code",
      "metadata": {
        "id": "xtQAPL6NhIHH"
      },
      "source": [
        "predictions = rf.predict(X)"
      ],
      "execution_count": null,
      "outputs": []
    },
    {
      "cell_type": "code",
      "metadata": {
        "id": "CIDYy3qVULtD",
        "colab": {
          "base_uri": "https://localhost:8080/"
        },
        "outputId": "193792c7-c27b-4d4a-e779-f1f2e5b22984"
      },
      "source": [
        "print(\"\\n Classification Report \\n\",classification_report(Y,predictions))"
      ],
      "execution_count": null,
      "outputs": [
        {
          "output_type": "stream",
          "text": [
            "\n",
            " Classification Report \n",
            "               precision    recall  f1-score   support\n",
            "\n",
            "           0       0.70      0.70      0.70     42322\n",
            "           1       0.70      0.66      0.68     38328\n",
            "           2       0.69      0.73      0.71     44700\n",
            "\n",
            "    accuracy                           0.70    125350\n",
            "   macro avg       0.70      0.70      0.70    125350\n",
            "weighted avg       0.70      0.70      0.70    125350\n",
            "\n"
          ],
          "name": "stdout"
        }
      ]
    },
    {
      "cell_type": "code",
      "metadata": {
        "id": "1BDQg8-8iWyu"
      },
      "source": [
        ""
      ],
      "execution_count": null,
      "outputs": []
    }
  ]
}